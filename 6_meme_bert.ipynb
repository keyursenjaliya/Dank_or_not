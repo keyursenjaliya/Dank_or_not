{
  "nbformat": 4,
  "nbformat_minor": 0,
  "metadata": {
    "colab": {
      "name": "meme_bert.ipynb",
      "provenance": [],
      "collapsed_sections": []
    },
    "kernelspec": {
      "name": "python3",
      "display_name": "Python 3"
    },
    "language_info": {
      "name": "python"
    }
  },
  "cells": [
    {
      "cell_type": "code",
      "metadata": {
        "colab": {
          "base_uri": "https://localhost:8080/"
        },
        "id": "X5tpwJ3BRr4P",
        "outputId": "eb694304-6718-4ca8-c6a0-b353825686e8"
      },
      "source": [
        "!wget --header=\"Host: doc-10-7c-docs.googleusercontent.com\" --header=\"User-Agent: Mozilla/5.0 (Windows NT 10.0; Win64; x64) AppleWebKit/537.36 (KHTML, like Gecko) Chrome/90.0.4430.212 Safari/537.36\" --header=\"Accept: text/html,application/xhtml+xml,application/xml;q=0.9,image/avif,image/webp,image/apng,*/*;q=0.8,application/signed-exchange;v=b3;q=0.9\" --header=\"Accept-Language: en-US,en;q=0.9\" --header=\"Cookie: AUTH_gbsevnc13krov7rjgq2cj0s062jqolpo_nonce=vgdcsfp52t5m4\" --header=\"Connection: keep-alive\" \"https://doc-10-7c-docs.googleusercontent.com/docs/securesc/ths62md7879q0rdb5g663rm4c96q2241/htppf4vboej968isgqfsq1vahttiph9q/1622633025000/00484516897554883881/06568700698331676125/13exfXiyiByluh1PfYK1EyZyizqxeCVG9?e=download&authuser=0&nonce=vgdcsfp52t5m4&user=06568700698331676125&hash=ui7jlmmmhg2cc1b50rc1cjsern614lfr\" -c -O 'tokenization.py'"
      ],
      "execution_count": null,
      "outputs": [
        {
          "output_type": "stream",
          "text": [
            "--2021-06-02 11:24:26--  https://doc-10-7c-docs.googleusercontent.com/docs/securesc/ths62md7879q0rdb5g663rm4c96q2241/htppf4vboej968isgqfsq1vahttiph9q/1622633025000/00484516897554883881/06568700698331676125/13exfXiyiByluh1PfYK1EyZyizqxeCVG9?e=download&authuser=0&nonce=vgdcsfp52t5m4&user=06568700698331676125&hash=ui7jlmmmhg2cc1b50rc1cjsern614lfr\n",
            "Resolving doc-10-7c-docs.googleusercontent.com (doc-10-7c-docs.googleusercontent.com)... 142.250.141.132, 2607:f8b0:4023:c0b::84\n",
            "Connecting to doc-10-7c-docs.googleusercontent.com (doc-10-7c-docs.googleusercontent.com)|142.250.141.132|:443... connected.\n",
            "HTTP request sent, awaiting response... 200 OK\n",
            "Length: 17318 (17K) [text/x-python]\n",
            "Saving to: ‘tokenization.py’\n",
            "\n",
            "tokenization.py     100%[===================>]  16.91K  --.-KB/s    in 0.003s  \n",
            "\n",
            "2021-06-02 11:24:26 (6.04 MB/s) - ‘tokenization.py’ saved [17318/17318]\n",
            "\n"
          ],
          "name": "stdout"
        }
      ]
    },
    {
      "cell_type": "markdown",
      "metadata": {
        "id": "9GuIBOQpIw4n"
      },
      "source": [
        "Import Libraries"
      ]
    },
    {
      "cell_type": "code",
      "metadata": {
        "id": "SGeCfZu9uVS8"
      },
      "source": [
        "import pandas as pd\n",
        "import pickle\n",
        "import tokenization\n",
        "from tokenization import FullTokenizer # reference :appliedai"
      ],
      "execution_count": null,
      "outputs": []
    },
    {
      "cell_type": "code",
      "metadata": {
        "id": "dt36FhPKIrId"
      },
      "source": [
        "import tensorflow as tf\n",
        "import tensorflow_hub as hub\n",
        "from tensorflow.keras.layers import Input, Dense, Activation, Dropout\n",
        "from tensorflow.keras.layers import  Flatten,Dropout,BatchNormalization,Conv1D, MaxPooling1D\n",
        "from tensorflow.keras.models import Model\n",
        "from tensorflow.keras.optimizers import Adam\n",
        "from tensorflow.keras.losses import CategoricalCrossentropy,categorical_crossentropy\n",
        "from tensorflow.keras.metrics import Accuracy\n",
        "from tensorflow.keras import callbacks\n",
        "from tensorflow.keras.models import Sequential\n",
        "from tensorflow.keras import layers\n",
        "from tensorflow.keras.layers import Embedding\n",
        "from sklearn.metrics  import f1_score,roc_auc_score, auc"
      ],
      "execution_count": null,
      "outputs": []
    },
    {
      "cell_type": "code",
      "metadata": {
        "id": "dB_-6419Iv2A"
      },
      "source": [
        "#read train and validation and test data\n",
        "train_data=pd.read_csv('/content/drive/MyDrive/Meme/data/train_data.csv')\n",
        "validation_data=pd.read_csv(\"/content/drive/MyDrive/Meme/data/validation_data.csv\")\n",
        "test_data=pd.read_csv('/content/drive/MyDrive/Meme/data/test_data.csv')"
      ],
      "execution_count": null,
      "outputs": []
    },
    {
      "cell_type": "code",
      "metadata": {
        "colab": {
          "base_uri": "https://localhost:8080/"
        },
        "id": "EN77l-V2VZ01",
        "outputId": "168873a7-29b8-49cd-8e55-81a25eb5e5a1"
      },
      "source": [
        "data=pd.read_csv('/content/drive/MyDrive/Meme/data/final_dank.csv')\n",
        "data.shape"
      ],
      "execution_count": null,
      "outputs": [
        {
          "output_type": "stream",
          "text": [
            "/usr/local/lib/python3.7/dist-packages/IPython/core/interactiveshell.py:2718: DtypeWarning: Columns (3,4,5,8,9,10,11,14,16,18,19) have mixed types.Specify dtype option on import or set low_memory=False.\n",
            "  interactivity=interactivity, compiler=compiler, result=result)\n"
          ],
          "name": "stderr"
        },
        {
          "output_type": "execute_result",
          "data": {
            "text/plain": [
              "(76138, 68)"
            ]
          },
          "metadata": {
            "tags": []
          },
          "execution_count": 2
        }
      ]
    },
    {
      "cell_type": "code",
      "metadata": {
        "id": "JhQE9Impu1VU"
      },
      "source": [
        "## Loading the Pretrained Model from tensorflow HUB\n",
        "tf.keras.backend.clear_session()\n",
        "\n",
        "max_seq_length = 40\n",
        "\n",
        "#BERT takes 3 inputs\n",
        "\n",
        "#this is input words. Sequence of words represented as integers\n",
        "input_word_ids = tf.keras.layers.Input(shape=(max_seq_length,), dtype=tf.int32, name=\"input_word_ids\")\n",
        "\n",
        "#mask vector if you are padding anything\n",
        "input_mask = tf.keras.layers.Input(shape=(max_seq_length,), dtype=tf.int32, name=\"input_mask\")\n",
        "\n",
        "#segment vectors. If you are giving only one sentence for the classification, total seg vector is 0. \n",
        "#If you are giving two sentenced with [sep] token separated, first seq segment vectors are zeros and \n",
        "#second seq segment vector are 1's\n",
        "segment_ids = tf.keras.layers.Input(shape=(max_seq_length,), dtype=tf.int32, name=\"segment_ids\")\n",
        "\n",
        "#bert layer \n",
        "bert_layer = hub.KerasLayer(\"https://tfhub.dev/tensorflow/bert_en_uncased_L-12_H-768_A-12/1\", trainable=False)\n",
        "pooled_output, sequence_output = bert_layer([input_word_ids, input_mask, segment_ids])\n",
        "\n",
        "bert_model = Model(inputs=[input_word_ids, input_mask, segment_ids], outputs=pooled_output)\n"
      ],
      "execution_count": null,
      "outputs": []
    },
    {
      "cell_type": "code",
      "metadata": {
        "colab": {
          "base_uri": "https://localhost:8080/"
        },
        "id": "M9cGN8o-u5t7",
        "outputId": "2c051c76-7668-4ad4-c18c-c354bde74cac"
      },
      "source": [
        "bert_model.summary()"
      ],
      "execution_count": null,
      "outputs": [
        {
          "output_type": "stream",
          "text": [
            "Model: \"model\"\n",
            "__________________________________________________________________________________________________\n",
            "Layer (type)                    Output Shape         Param #     Connected to                     \n",
            "==================================================================================================\n",
            "input_word_ids (InputLayer)     [(None, 40)]         0                                            \n",
            "__________________________________________________________________________________________________\n",
            "input_mask (InputLayer)         [(None, 40)]         0                                            \n",
            "__________________________________________________________________________________________________\n",
            "segment_ids (InputLayer)        [(None, 40)]         0                                            \n",
            "__________________________________________________________________________________________________\n",
            "keras_layer (KerasLayer)        [(None, 768), (None, 109482241   input_word_ids[0][0]             \n",
            "                                                                 input_mask[0][0]                 \n",
            "                                                                 segment_ids[0][0]                \n",
            "==================================================================================================\n",
            "Total params: 109,482,241\n",
            "Trainable params: 0\n",
            "Non-trainable params: 109,482,241\n",
            "__________________________________________________________________________________________________\n"
          ],
          "name": "stdout"
        }
      ]
    },
    {
      "cell_type": "code",
      "metadata": {
        "colab": {
          "base_uri": "https://localhost:8080/"
        },
        "id": "zG3CKMERw6d6",
        "outputId": "447a6f70-8637-429a-e002-b253ffba4962"
      },
      "source": [
        "bert_model.output"
      ],
      "execution_count": null,
      "outputs": [
        {
          "output_type": "execute_result",
          "data": {
            "text/plain": [
              "<KerasTensor: shape=(None, 768) dtype=float32 (created by layer 'keras_layer')>"
            ]
          },
          "metadata": {
            "tags": []
          },
          "execution_count": 5
        }
      ]
    },
    {
      "cell_type": "code",
      "metadata": {
        "id": "F9C2c4m4Nb_j"
      },
      "source": [
        "#getting Vocab file\n",
        "vocab_file = bert_layer.resolved_object.vocab_file.asset_path.numpy()\n",
        "do_lower_case = bert_layer.resolved_object.do_lower_case.numpy()"
      ],
      "execution_count": null,
      "outputs": []
    },
    {
      "cell_type": "code",
      "metadata": {
        "id": "a7Ao6xUYNb0C"
      },
      "source": [
        "#reference: applied ai\n",
        "tokenizer=FullTokenizer(vocab_file,do_lower_case)"
      ],
      "execution_count": null,
      "outputs": []
    },
    {
      "cell_type": "code",
      "metadata": {
        "id": "dN40inTiNbwi"
      },
      "source": [
        "test_tokens=[]\n",
        "train_tokens=[]\n",
        "validation_tokens=[ ]\n",
        "for i in train_data['text']:\n",
        "  tokens=tokenizer.tokenize(i)\n",
        "  train_tokens.append(tokens[0:38])\n",
        "for j in test_data['text']:\n",
        "  tokens=tokenizer.tokenize(i)\n",
        "  test_tokens.append(tokens[0:38])\n",
        "for k in validation_data['text']:\n",
        "  tokens=tokenizer.tokenize(i)\n",
        "  validation_tokens.append(tokens[0:38])"
      ],
      "execution_count": null,
      "outputs": []
    },
    {
      "cell_type": "code",
      "metadata": {
        "id": "jBfkDDMWNbtl"
      },
      "source": [
        "for index,i in enumerate(train_tokens):\n",
        "    train_tokens[index]=np.array(['[CLS]',*i,'[SEP]'])\n",
        " \n",
        "for index,i in enumerate(test_tokens):\n",
        "    test_tokens[index]=np.array(['[CLS]',*i,'[SEP]'])  \n",
        "\n",
        "for index,i in enumerate(test_tokens):\n",
        "    test_tokens[index]=np.array(['[CLS]',*i,'[SEP]'])     "
      ],
      "execution_count": null,
      "outputs": []
    },
    {
      "cell_type": "code",
      "metadata": {
        "colab": {
          "base_uri": "https://localhost:8080/"
        },
        "id": "grEdD5Trt9cI",
        "outputId": "5b7a3962-83ae-46c8-a245-63234190c981"
      },
      "source": [
        "print(train_tokens[9])"
      ],
      "execution_count": null,
      "outputs": [
        {
          "output_type": "stream",
          "text": [
            "['[CLS]' 'every' 'time' 'the' 'pee' 'when' 'you' 'wig' '##gle' 'it' 'and'\n",
            " 'wait' 'the' 'pee' 'when' 'you' 'lift' 'your' 'underwear' 'up' '[SEP]']\n"
          ],
          "name": "stdout"
        }
      ]
    },
    {
      "cell_type": "code",
      "metadata": {
        "id": "hTFPgbUpt9SQ"
      },
      "source": [
        "def padding(data):\n",
        "  for index,i in enumerate(data):\n",
        "    sen_len=len(i)\n",
        "    if sen_len<max_seq_length :\n",
        "      diff=max_seq_length -sen_len\n",
        "      data[index]=np.array([*i,*[\"[PAD]\" for k in range(diff)]])\n",
        "  return data    "
      ],
      "execution_count": null,
      "outputs": []
    },
    {
      "cell_type": "code",
      "metadata": {
        "id": "bzg3ZJh5Nbqd"
      },
      "source": [
        "train_tokens=padding(train_tokens)\n",
        "validation_tokens=padding(validation_tokens)\n",
        "test_tokens=padding(test_tokens)"
      ],
      "execution_count": null,
      "outputs": []
    },
    {
      "cell_type": "code",
      "metadata": {
        "id": "V5_6ducLuz5B"
      },
      "source": [
        "def mask(data):\n",
        "  mask_data=[]\n",
        "  for i in data:\n",
        "    mask_data.append(list(map(lambda x:0 if x=='[PAD]' else 1,i)))\n",
        "  return mask_data\n"
      ],
      "execution_count": null,
      "outputs": []
    },
    {
      "cell_type": "code",
      "metadata": {
        "id": "Z9IBpoKYvD3e"
      },
      "source": [
        "train_mask=mask(train_tokens)\n",
        "test_mask =mask(test_tokens)\n",
        "validation_mask=mask(validation_tokens)"
      ],
      "execution_count": null,
      "outputs": []
    },
    {
      "cell_type": "code",
      "metadata": {
        "colab": {
          "base_uri": "https://localhost:8080/"
        },
        "id": "DVee7gf_vDxD",
        "outputId": "ba17c3da-cd6f-41c1-9de0-e89e07e5f2f0"
      },
      "source": [
        "train_segment=np.zeros((len(train_mask),max_seq_length ))\n",
        "validation_segment=np.zeros((len(validation_mask),max_seq_length ))\n",
        "test_segment=np.zeros((len(test_mask),max_seq_length ))\n",
        "print(train_segment.shape,test_segment.shape,validation_segment.shape)"
      ],
      "execution_count": null,
      "outputs": [
        {
          "output_type": "stream",
          "text": [
            "(3264, 40) (1637, 40) (1615, 40)\n"
          ],
          "name": "stdout"
        }
      ]
    },
    {
      "cell_type": "code",
      "metadata": {
        "colab": {
          "base_uri": "https://localhost:8080/"
        },
        "id": "-36Q5haxuz1U",
        "outputId": "269f427c-fb0e-4c31-e851-bc3675642268"
      },
      "source": [
        "print(train_tokens[2:5])"
      ],
      "execution_count": null,
      "outputs": [
        {
          "output_type": "stream",
          "text": [
            "[array(['[CLS]', 'my', 'first', 'in', 'qu', '##aran', '##tine', 'me', 'an',\n",
            "       'ex', '##tro', '##vert', 'that', 'people', 'in', 'qu', '##aran',\n",
            "       '##tine', '[SEP]', '[PAD]', '[PAD]', '[PAD]', '[PAD]', '[PAD]',\n",
            "       '[PAD]', '[PAD]', '[PAD]', '[PAD]', '[PAD]', '[PAD]', '[PAD]',\n",
            "       '[PAD]', '[PAD]', '[PAD]', '[PAD]', '[PAD]', '[PAD]', '[PAD]',\n",
            "       '[PAD]', '[PAD]'], dtype='<U6'), array(['[CLS]', 'heart', 'melting', 'mum', '##ch', 'goblin', '##s',\n",
            "       'eating', 'is', 'the', 'most', 'adorable', 'sight', 'ever', 'you',\n",
            "       '[SEP]', '[PAD]', '[PAD]', '[PAD]', '[PAD]', '[PAD]', '[PAD]',\n",
            "       '[PAD]', '[PAD]', '[PAD]', '[PAD]', '[PAD]', '[PAD]', '[PAD]',\n",
            "       '[PAD]', '[PAD]', '[PAD]', '[PAD]', '[PAD]', '[PAD]', '[PAD]',\n",
            "       '[PAD]', '[PAD]', '[PAD]', '[PAD]'], dtype='<U8'), array(['[CLS]', 'this', 'sums', 'up', 'the', 'corona', '##virus',\n",
            "       'literally', 'everyone', 'right', 'now', 'panic', 'fat', 'the',\n",
            "       '[SEP]', '[PAD]', '[PAD]', '[PAD]', '[PAD]', '[PAD]', '[PAD]',\n",
            "       '[PAD]', '[PAD]', '[PAD]', '[PAD]', '[PAD]', '[PAD]', '[PAD]',\n",
            "       '[PAD]', '[PAD]', '[PAD]', '[PAD]', '[PAD]', '[PAD]', '[PAD]',\n",
            "       '[PAD]', '[PAD]', '[PAD]', '[PAD]', '[PAD]'], dtype='<U9')]\n"
          ],
          "name": "stdout"
        }
      ]
    },
    {
      "cell_type": "code",
      "metadata": {
        "id": "OqfgufqUvh5a"
      },
      "source": [
        "def token_id(data):\n",
        "  for index,i in enumerate(data):\n",
        "    data[index]=np.array(tokenizer.convert_tokens_to_ids(i))\n",
        "  return (data)"
      ],
      "execution_count": null,
      "outputs": []
    },
    {
      "cell_type": "code",
      "metadata": {
        "id": "ALD4WgXevh0Y"
      },
      "source": [
        "train_tokens=token_id(train_tokens)\n",
        "test_tokens=token_id(test_tokens)\n",
        "validation_tokens=token_id(validation_tokens)"
      ],
      "execution_count": null,
      "outputs": []
    },
    {
      "cell_type": "code",
      "metadata": {
        "id": "nEvzDv1Svhwu"
      },
      "source": [
        "\n",
        "train_mask=np.asarray(train_mask)\n",
        "test_mask=np.asarray(test_mask)\n",
        "validation_mask=np.asarray(validation_mask)"
      ],
      "execution_count": null,
      "outputs": []
    },
    {
      "cell_type": "code",
      "metadata": {
        "id": "4nySTW6Iv4hG"
      },
      "source": [
        "train_tokens=np.asarray(train_tokens)\n",
        "test_tokens=np.asarray(test_tokens)\n",
        "validation_tokens=np.asarray(validation_tokens)"
      ],
      "execution_count": null,
      "outputs": []
    },
    {
      "cell_type": "code",
      "metadata": {
        "id": "lmlwZqw8wPv8"
      },
      "source": [
        "# get the train output, BERT model will give one output so save in\n",
        "# X_train_pooled_output\n",
        "train_pooled_output=bert_model.predict([train_tokens,train_mask,train_segment])"
      ],
      "execution_count": null,
      "outputs": []
    },
    {
      "cell_type": "code",
      "metadata": {
        "id": "VB5khdldwPs1"
      },
      "source": [
        "# get the test output, BERT model will give one output so save in\n",
        "# test_pooled_output\n",
        "test_pooled_output=bert_model.predict([test_tokens,test_mask,test_segment])\n",
        "validation_pooled_output=bert_model.predict([validation_tokens,validation_mask,validation_segment])"
      ],
      "execution_count": null,
      "outputs": []
    },
    {
      "cell_type": "code",
      "metadata": {
        "id": "2ytUOPbAwPoc"
      },
      "source": [
        "##save all your results to disk so that, no need to run all again. \n",
        "pickle.dump((train_pooled_output,validation_pooled_output, test_pooled_output),open('/content/drive/MyDrive/Meme/data/bert_output.pkl','wb'))"
      ],
      "execution_count": null,
      "outputs": []
    },
    {
      "cell_type": "code",
      "metadata": {
        "id": "VNO6wEXThyd7"
      },
      "source": [
        "##create an NN and \n",
        "def give_model():\n",
        "  model=Sequential()\n",
        "  model.add(Conv1D(256, 3,strides=5, activation='relu',input_shape=(768,1)))\n",
        "  model.add(Conv1D(128, 3,strides=4, activation='relu'))\n",
        "  model.add(Conv1D(64, 4,strides=2, activation='relu'))\n",
        "  model.add(Conv1D(32, 2, activation='relu'))\n",
        "  model.add(Flatten())\n",
        "\n",
        "  \n",
        "  model.add(Dense(128,activation='relu',kernel_initializer='he_normal'))\n",
        "  model.add(Dropout(0.6))\n",
        "  model.add(BatchNormalization())\n",
        "  model.add(Dense(64,activation='relu',kernel_initializer='he_normal'))\n",
        "  model.add(Dropout(0.6))\n",
        "  model.add(BatchNormalization())\n",
        "\n",
        "  model.add(Dense(32,activation='relu',kernel_initializer='he_normal'))\n",
        "  model.add(Dropout(0.5))\n",
        "  \n",
        "  model.add(Dense(2,activation='softmax'))\n",
        "  model.compile(optimizer=Adam(learning_rate=0.0001),loss='categorical_crossentropy',metrics=['accuracy'])\n",
        "  return model"
      ],
      "execution_count": null,
      "outputs": []
    },
    {
      "cell_type": "code",
      "metadata": {
        "colab": {
          "base_uri": "https://localhost:8080/"
        },
        "id": "2i6_W-4Vh9dt",
        "outputId": "72b48ed8-9ee1-41ee-bc93-2abe8d44e1bf"
      },
      "source": [
        "model =give_model()\n",
        "model.summary()"
      ],
      "execution_count": null,
      "outputs": [
        {
          "output_type": "stream",
          "text": [
            "Model: \"sequential_3\"\n",
            "_________________________________________________________________\n",
            "Layer (type)                 Output Shape              Param #   \n",
            "=================================================================\n",
            "conv1d_12 (Conv1D)           (None, 154, 256)          1024      \n",
            "_________________________________________________________________\n",
            "conv1d_13 (Conv1D)           (None, 38, 128)           98432     \n",
            "_________________________________________________________________\n",
            "conv1d_14 (Conv1D)           (None, 18, 64)            32832     \n",
            "_________________________________________________________________\n",
            "conv1d_15 (Conv1D)           (None, 17, 32)            4128      \n",
            "_________________________________________________________________\n",
            "flatten_3 (Flatten)          (None, 544)               0         \n",
            "_________________________________________________________________\n",
            "dense_12 (Dense)             (None, 128)               69760     \n",
            "_________________________________________________________________\n",
            "dropout_9 (Dropout)          (None, 128)               0         \n",
            "_________________________________________________________________\n",
            "batch_normalization_6 (Batch (None, 128)               512       \n",
            "_________________________________________________________________\n",
            "dense_13 (Dense)             (None, 64)                8256      \n",
            "_________________________________________________________________\n",
            "dropout_10 (Dropout)         (None, 64)                0         \n",
            "_________________________________________________________________\n",
            "batch_normalization_7 (Batch (None, 64)                256       \n",
            "_________________________________________________________________\n",
            "dense_14 (Dense)             (None, 32)                2080      \n",
            "_________________________________________________________________\n",
            "dropout_11 (Dropout)         (None, 32)                0         \n",
            "_________________________________________________________________\n",
            "dense_15 (Dense)             (None, 2)                 66        \n",
            "=================================================================\n",
            "Total params: 217,346\n",
            "Trainable params: 216,962\n",
            "Non-trainable params: 384\n",
            "_________________________________________________________________\n"
          ],
          "name": "stdout"
        }
      ]
    },
    {
      "cell_type": "code",
      "metadata": {
        "id": "v2AV7_XAh9bG"
      },
      "source": [
        "y_train_one=tensorflow.keras.utils.to_categorical(train_data['dank_level'],2)\n",
        "y_validation_one=tensorflow.keras.utils.to_categorical(validation_data['dank_level'],2)\n",
        "y_test_one=tensorflow.keras.utils.to_categorical(test_data['dank_level'],2)"
      ],
      "execution_count": null,
      "outputs": []
    },
    {
      "cell_type": "code",
      "metadata": {
        "colab": {
          "base_uri": "https://localhost:8080/"
        },
        "id": "Q0bbQfa1jHeb",
        "outputId": "29f0680e-38f6-4bf0-ca75-c145dc0be64c"
      },
      "source": [
        "\n",
        "train_pooled_output= train_pooled_output.reshape(train_pooled_output.shape[0], train_pooled_output.shape[1], 1)\n",
        "validation_pooled_output= validation_pooled_output.reshape(validation_pooled_output.shape[0], validation_pooled_output.shape[1], 1)\n",
        "test_pooled_output= test_pooled_output.reshape(test_pooled_output.shape[0], test_pooled_output.shape[1], 1)\n",
        "\n",
        "print(\"Training shape---> \",train_pooled_output.shape)\n",
        "print(\"Test shape    ---> \",test_pooled_output.shape)\n",
        "print(\"validation shape    ---> \",validation_pooled_output.shape)\n"
      ],
      "execution_count": null,
      "outputs": [
        {
          "output_type": "stream",
          "text": [
            "Training shape--->  (3264, 768, 1)\n",
            "Test shape    --->  (1637, 768, 1)\n",
            "validation shape    --->  (1615, 768, 1)\n"
          ],
          "name": "stdout"
        }
      ]
    },
    {
      "cell_type": "code",
      "metadata": {
        "colab": {
          "base_uri": "https://localhost:8080/"
        },
        "id": "iwyyhQmfh9YN",
        "outputId": "2846054f-5312-4a2e-8fe0-46d9f1189104"
      },
      "source": [
        "model.fit(train_pooled_output,\n",
        "           y_train_one,batch_size=128,\n",
        "           validation_data=(validation_pooled_output,y_validation_one),\n",
        "           epochs=100)"
      ],
      "execution_count": null,
      "outputs": [
        {
          "output_type": "stream",
          "text": [
            "Epoch 1/100\n",
            "26/26 [==============================] - 1s 21ms/step - loss: 1.4184 - accuracy: 0.5064 - val_loss: 0.6933 - val_accuracy: 0.4892\n",
            "Epoch 2/100\n",
            "26/26 [==============================] - 0s 12ms/step - loss: 1.3856 - accuracy: 0.5181 - val_loss: 0.6930 - val_accuracy: 0.5108\n",
            "Epoch 3/100\n",
            "26/26 [==============================] - 0s 12ms/step - loss: 1.3358 - accuracy: 0.5184 - val_loss: 0.6933 - val_accuracy: 0.4892\n",
            "Epoch 4/100\n",
            "26/26 [==============================] - 0s 11ms/step - loss: 1.3592 - accuracy: 0.4997 - val_loss: 0.6930 - val_accuracy: 0.5108\n",
            "Epoch 5/100\n",
            "26/26 [==============================] - 0s 11ms/step - loss: 1.3070 - accuracy: 0.5046 - val_loss: 0.6932 - val_accuracy: 0.4892\n",
            "Epoch 6/100\n",
            "26/26 [==============================] - 0s 11ms/step - loss: 1.2916 - accuracy: 0.4960 - val_loss: 0.6936 - val_accuracy: 0.4892\n",
            "Epoch 7/100\n",
            "26/26 [==============================] - 0s 11ms/step - loss: 1.2534 - accuracy: 0.5080 - val_loss: 0.6937 - val_accuracy: 0.4892\n",
            "Epoch 8/100\n",
            "26/26 [==============================] - 0s 12ms/step - loss: 1.2724 - accuracy: 0.4979 - val_loss: 0.6942 - val_accuracy: 0.4892\n",
            "Epoch 9/100\n",
            "26/26 [==============================] - 0s 11ms/step - loss: 1.2361 - accuracy: 0.5025 - val_loss: 0.6947 - val_accuracy: 0.4892\n",
            "Epoch 10/100\n",
            "26/26 [==============================] - 0s 12ms/step - loss: 1.2409 - accuracy: 0.4856 - val_loss: 0.6940 - val_accuracy: 0.4892\n",
            "Epoch 11/100\n",
            "26/26 [==============================] - 0s 11ms/step - loss: 1.1768 - accuracy: 0.5074 - val_loss: 0.6961 - val_accuracy: 0.4892\n",
            "Epoch 12/100\n",
            "26/26 [==============================] - 0s 12ms/step - loss: 1.1624 - accuracy: 0.5070 - val_loss: 0.6970 - val_accuracy: 0.4892\n",
            "Epoch 13/100\n",
            "26/26 [==============================] - 0s 12ms/step - loss: 1.1492 - accuracy: 0.5086 - val_loss: 0.6966 - val_accuracy: 0.4892\n",
            "Epoch 14/100\n",
            "26/26 [==============================] - 0s 11ms/step - loss: 1.1744 - accuracy: 0.4911 - val_loss: 0.7038 - val_accuracy: 0.4892\n",
            "Epoch 15/100\n",
            "26/26 [==============================] - 0s 11ms/step - loss: 1.1498 - accuracy: 0.4896 - val_loss: 0.7010 - val_accuracy: 0.4892\n",
            "Epoch 16/100\n",
            "26/26 [==============================] - 0s 12ms/step - loss: 1.1182 - accuracy: 0.5058 - val_loss: 0.7035 - val_accuracy: 0.4892\n",
            "Epoch 17/100\n",
            "26/26 [==============================] - 0s 12ms/step - loss: 1.1402 - accuracy: 0.4822 - val_loss: 0.6950 - val_accuracy: 0.4892\n",
            "Epoch 18/100\n",
            "26/26 [==============================] - 0s 12ms/step - loss: 1.0940 - accuracy: 0.4936 - val_loss: 0.6973 - val_accuracy: 0.4892\n",
            "Epoch 19/100\n",
            "26/26 [==============================] - 0s 12ms/step - loss: 1.0856 - accuracy: 0.5080 - val_loss: 0.6961 - val_accuracy: 0.4892\n",
            "Epoch 20/100\n",
            "26/26 [==============================] - 0s 12ms/step - loss: 1.0629 - accuracy: 0.5080 - val_loss: 0.7158 - val_accuracy: 0.4892\n",
            "Epoch 21/100\n",
            "26/26 [==============================] - 0s 11ms/step - loss: 1.0863 - accuracy: 0.5031 - val_loss: 0.7059 - val_accuracy: 0.4892\n",
            "Epoch 22/100\n",
            "26/26 [==============================] - 0s 11ms/step - loss: 1.0524 - accuracy: 0.4942 - val_loss: 0.7023 - val_accuracy: 0.4892\n",
            "Epoch 23/100\n",
            "26/26 [==============================] - 0s 12ms/step - loss: 1.0476 - accuracy: 0.4920 - val_loss: 0.7058 - val_accuracy: 0.4892\n",
            "Epoch 24/100\n",
            "26/26 [==============================] - 0s 11ms/step - loss: 1.0176 - accuracy: 0.4979 - val_loss: 0.7068 - val_accuracy: 0.4892\n",
            "Epoch 25/100\n",
            "26/26 [==============================] - 0s 12ms/step - loss: 1.0209 - accuracy: 0.5104 - val_loss: 0.7014 - val_accuracy: 0.4892\n",
            "Epoch 26/100\n",
            "26/26 [==============================] - 0s 12ms/step - loss: 1.0012 - accuracy: 0.5052 - val_loss: 0.6929 - val_accuracy: 0.5108\n",
            "Epoch 27/100\n",
            "26/26 [==============================] - 0s 11ms/step - loss: 0.9977 - accuracy: 0.5070 - val_loss: 0.7067 - val_accuracy: 0.4892\n",
            "Epoch 28/100\n",
            "26/26 [==============================] - 0s 12ms/step - loss: 0.9780 - accuracy: 0.5077 - val_loss: 0.6940 - val_accuracy: 0.5108\n",
            "Epoch 29/100\n",
            "26/26 [==============================] - 0s 12ms/step - loss: 0.9651 - accuracy: 0.4954 - val_loss: 0.7026 - val_accuracy: 0.5108\n",
            "Epoch 30/100\n",
            "26/26 [==============================] - 0s 12ms/step - loss: 0.9597 - accuracy: 0.5052 - val_loss: 0.7248 - val_accuracy: 0.5108\n",
            "Epoch 31/100\n",
            "26/26 [==============================] - 0s 12ms/step - loss: 0.9798 - accuracy: 0.5018 - val_loss: 0.7170 - val_accuracy: 0.5108\n",
            "Epoch 32/100\n",
            "26/26 [==============================] - 0s 12ms/step - loss: 0.9492 - accuracy: 0.5129 - val_loss: 0.6951 - val_accuracy: 0.5108\n",
            "Epoch 33/100\n",
            "26/26 [==============================] - 0s 12ms/step - loss: 0.9609 - accuracy: 0.4951 - val_loss: 0.7090 - val_accuracy: 0.5108\n",
            "Epoch 34/100\n",
            "26/26 [==============================] - 0s 11ms/step - loss: 0.9470 - accuracy: 0.5028 - val_loss: 0.6955 - val_accuracy: 0.5108\n",
            "Epoch 35/100\n",
            "26/26 [==============================] - 0s 12ms/step - loss: 0.9044 - accuracy: 0.5211 - val_loss: 0.6966 - val_accuracy: 0.5108\n",
            "Epoch 36/100\n",
            "26/26 [==============================] - 0s 12ms/step - loss: 0.9341 - accuracy: 0.5159 - val_loss: 0.6929 - val_accuracy: 0.5108\n",
            "Epoch 37/100\n",
            "26/26 [==============================] - 0s 11ms/step - loss: 0.9474 - accuracy: 0.4914 - val_loss: 0.6951 - val_accuracy: 0.5108\n",
            "Epoch 38/100\n",
            "26/26 [==============================] - 0s 12ms/step - loss: 0.9099 - accuracy: 0.5095 - val_loss: 0.6946 - val_accuracy: 0.4892\n",
            "Epoch 39/100\n",
            "26/26 [==============================] - 0s 12ms/step - loss: 0.9204 - accuracy: 0.5074 - val_loss: 0.6945 - val_accuracy: 0.4892\n",
            "Epoch 40/100\n",
            "26/26 [==============================] - 0s 12ms/step - loss: 0.9319 - accuracy: 0.4951 - val_loss: 0.6957 - val_accuracy: 0.4892\n",
            "Epoch 41/100\n",
            "26/26 [==============================] - 0s 12ms/step - loss: 0.8909 - accuracy: 0.5086 - val_loss: 0.7024 - val_accuracy: 0.4892\n",
            "Epoch 42/100\n",
            "26/26 [==============================] - 0s 11ms/step - loss: 0.9010 - accuracy: 0.4954 - val_loss: 0.6989 - val_accuracy: 0.5108\n",
            "Epoch 43/100\n",
            "26/26 [==============================] - 0s 12ms/step - loss: 0.9021 - accuracy: 0.5089 - val_loss: 0.6991 - val_accuracy: 0.5108\n",
            "Epoch 44/100\n",
            "26/26 [==============================] - 0s 12ms/step - loss: 0.8981 - accuracy: 0.5141 - val_loss: 0.7114 - val_accuracy: 0.5108\n",
            "Epoch 45/100\n",
            "26/26 [==============================] - 0s 12ms/step - loss: 0.8867 - accuracy: 0.5064 - val_loss: 0.7122 - val_accuracy: 0.5108\n",
            "Epoch 46/100\n",
            "26/26 [==============================] - 0s 12ms/step - loss: 0.8925 - accuracy: 0.4908 - val_loss: 0.6970 - val_accuracy: 0.5108\n",
            "Epoch 47/100\n",
            "26/26 [==============================] - 0s 11ms/step - loss: 0.8725 - accuracy: 0.5031 - val_loss: 0.6950 - val_accuracy: 0.5108\n",
            "Epoch 48/100\n",
            "26/26 [==============================] - 0s 11ms/step - loss: 0.8726 - accuracy: 0.5092 - val_loss: 0.6957 - val_accuracy: 0.5108\n",
            "Epoch 49/100\n",
            "26/26 [==============================] - 0s 12ms/step - loss: 0.8474 - accuracy: 0.5067 - val_loss: 0.6933 - val_accuracy: 0.5108\n",
            "Epoch 50/100\n",
            "26/26 [==============================] - 0s 12ms/step - loss: 0.8665 - accuracy: 0.4963 - val_loss: 0.6935 - val_accuracy: 0.5108\n",
            "Epoch 51/100\n",
            "26/26 [==============================] - 0s 12ms/step - loss: 0.8493 - accuracy: 0.4994 - val_loss: 0.6930 - val_accuracy: 0.5108\n",
            "Epoch 52/100\n",
            "26/26 [==============================] - 0s 11ms/step - loss: 0.8339 - accuracy: 0.5031 - val_loss: 0.6945 - val_accuracy: 0.5108\n",
            "Epoch 53/100\n",
            "26/26 [==============================] - 0s 12ms/step - loss: 0.8716 - accuracy: 0.4985 - val_loss: 0.6961 - val_accuracy: 0.5108\n",
            "Epoch 54/100\n",
            "26/26 [==============================] - 0s 12ms/step - loss: 0.8323 - accuracy: 0.4969 - val_loss: 0.6931 - val_accuracy: 0.5108\n",
            "Epoch 55/100\n",
            "26/26 [==============================] - 0s 12ms/step - loss: 0.8217 - accuracy: 0.5141 - val_loss: 0.6929 - val_accuracy: 0.5108\n",
            "Epoch 56/100\n",
            "26/26 [==============================] - 0s 12ms/step - loss: 0.8292 - accuracy: 0.5190 - val_loss: 0.6930 - val_accuracy: 0.5108\n",
            "Epoch 57/100\n",
            "26/26 [==============================] - 0s 11ms/step - loss: 0.8297 - accuracy: 0.5077 - val_loss: 0.6930 - val_accuracy: 0.5108\n",
            "Epoch 58/100\n",
            "26/26 [==============================] - 0s 12ms/step - loss: 0.8322 - accuracy: 0.5150 - val_loss: 0.6929 - val_accuracy: 0.5108\n",
            "Epoch 59/100\n",
            "26/26 [==============================] - 0s 12ms/step - loss: 0.8167 - accuracy: 0.5129 - val_loss: 0.6932 - val_accuracy: 0.5108\n",
            "Epoch 60/100\n",
            "26/26 [==============================] - 0s 11ms/step - loss: 0.8365 - accuracy: 0.5009 - val_loss: 0.6940 - val_accuracy: 0.4892\n",
            "Epoch 61/100\n",
            "26/26 [==============================] - 0s 11ms/step - loss: 0.8292 - accuracy: 0.5046 - val_loss: 0.6932 - val_accuracy: 0.4892\n",
            "Epoch 62/100\n",
            "26/26 [==============================] - 0s 11ms/step - loss: 0.8107 - accuracy: 0.5025 - val_loss: 0.6934 - val_accuracy: 0.4892\n",
            "Epoch 63/100\n",
            "26/26 [==============================] - 0s 12ms/step - loss: 0.7925 - accuracy: 0.5239 - val_loss: 0.6972 - val_accuracy: 0.4892\n",
            "Epoch 64/100\n",
            "26/26 [==============================] - 0s 12ms/step - loss: 0.8206 - accuracy: 0.4979 - val_loss: 0.6988 - val_accuracy: 0.4892\n",
            "Epoch 65/100\n",
            "26/26 [==============================] - 0s 12ms/step - loss: 0.8090 - accuracy: 0.5110 - val_loss: 0.6972 - val_accuracy: 0.4892\n",
            "Epoch 66/100\n",
            "26/26 [==============================] - 0s 12ms/step - loss: 0.8098 - accuracy: 0.4997 - val_loss: 0.6979 - val_accuracy: 0.4892\n",
            "Epoch 67/100\n",
            "26/26 [==============================] - 0s 12ms/step - loss: 0.8105 - accuracy: 0.5021 - val_loss: 0.6969 - val_accuracy: 0.4892\n",
            "Epoch 68/100\n",
            "26/26 [==============================] - 0s 11ms/step - loss: 0.8029 - accuracy: 0.4951 - val_loss: 0.6961 - val_accuracy: 0.4892\n",
            "Epoch 69/100\n",
            "26/26 [==============================] - 0s 12ms/step - loss: 0.7880 - accuracy: 0.4985 - val_loss: 0.6968 - val_accuracy: 0.4892\n",
            "Epoch 70/100\n",
            "26/26 [==============================] - 0s 12ms/step - loss: 0.8103 - accuracy: 0.4871 - val_loss: 0.6938 - val_accuracy: 0.4892\n",
            "Epoch 71/100\n",
            "26/26 [==============================] - 0s 12ms/step - loss: 0.7963 - accuracy: 0.5028 - val_loss: 0.6930 - val_accuracy: 0.5108\n",
            "Epoch 72/100\n",
            "26/26 [==============================] - 0s 12ms/step - loss: 0.7965 - accuracy: 0.5055 - val_loss: 0.6929 - val_accuracy: 0.5108\n",
            "Epoch 73/100\n",
            "26/26 [==============================] - 0s 12ms/step - loss: 0.7915 - accuracy: 0.5028 - val_loss: 0.6931 - val_accuracy: 0.5108\n",
            "Epoch 74/100\n",
            "26/26 [==============================] - 0s 11ms/step - loss: 0.7978 - accuracy: 0.4951 - val_loss: 0.6933 - val_accuracy: 0.4892\n",
            "Epoch 75/100\n",
            "26/26 [==============================] - 0s 12ms/step - loss: 0.7820 - accuracy: 0.5043 - val_loss: 0.6937 - val_accuracy: 0.4892\n",
            "Epoch 76/100\n",
            "26/26 [==============================] - 0s 12ms/step - loss: 0.7744 - accuracy: 0.5021 - val_loss: 0.6930 - val_accuracy: 0.5108\n",
            "Epoch 77/100\n",
            "26/26 [==============================] - 0s 12ms/step - loss: 0.7748 - accuracy: 0.5153 - val_loss: 0.6943 - val_accuracy: 0.4892\n",
            "Epoch 78/100\n",
            "26/26 [==============================] - 0s 12ms/step - loss: 0.7901 - accuracy: 0.4835 - val_loss: 0.6938 - val_accuracy: 0.4892\n",
            "Epoch 79/100\n",
            "26/26 [==============================] - 0s 12ms/step - loss: 0.7881 - accuracy: 0.4975 - val_loss: 0.6929 - val_accuracy: 0.5108\n",
            "Epoch 80/100\n",
            "26/26 [==============================] - 0s 12ms/step - loss: 0.7763 - accuracy: 0.4966 - val_loss: 0.6939 - val_accuracy: 0.4892\n",
            "Epoch 81/100\n",
            "26/26 [==============================] - 0s 11ms/step - loss: 0.7797 - accuracy: 0.4893 - val_loss: 0.6941 - val_accuracy: 0.4892\n",
            "Epoch 82/100\n",
            "26/26 [==============================] - 0s 12ms/step - loss: 0.7671 - accuracy: 0.4972 - val_loss: 0.6935 - val_accuracy: 0.4892\n",
            "Epoch 83/100\n",
            "26/26 [==============================] - 0s 12ms/step - loss: 0.7407 - accuracy: 0.5236 - val_loss: 0.6939 - val_accuracy: 0.4892\n",
            "Epoch 84/100\n",
            "26/26 [==============================] - 0s 12ms/step - loss: 0.7571 - accuracy: 0.5055 - val_loss: 0.6932 - val_accuracy: 0.4892\n",
            "Epoch 85/100\n",
            "26/26 [==============================] - 0s 12ms/step - loss: 0.7728 - accuracy: 0.5037 - val_loss: 0.6931 - val_accuracy: 0.5108\n",
            "Epoch 86/100\n",
            "26/26 [==============================] - 0s 12ms/step - loss: 0.7718 - accuracy: 0.4963 - val_loss: 0.6944 - val_accuracy: 0.4892\n",
            "Epoch 87/100\n",
            "26/26 [==============================] - 0s 11ms/step - loss: 0.7667 - accuracy: 0.4822 - val_loss: 0.6951 - val_accuracy: 0.4892\n",
            "Epoch 88/100\n",
            "26/26 [==============================] - 0s 12ms/step - loss: 0.7489 - accuracy: 0.5055 - val_loss: 0.6960 - val_accuracy: 0.4892\n",
            "Epoch 89/100\n",
            "26/26 [==============================] - 0s 12ms/step - loss: 0.7682 - accuracy: 0.4954 - val_loss: 0.6953 - val_accuracy: 0.4892\n",
            "Epoch 90/100\n",
            "26/26 [==============================] - 0s 12ms/step - loss: 0.7569 - accuracy: 0.4994 - val_loss: 0.6962 - val_accuracy: 0.4892\n",
            "Epoch 91/100\n",
            "26/26 [==============================] - 0s 12ms/step - loss: 0.7627 - accuracy: 0.5031 - val_loss: 0.6952 - val_accuracy: 0.4892\n",
            "Epoch 92/100\n",
            "26/26 [==============================] - 0s 12ms/step - loss: 0.7572 - accuracy: 0.4985 - val_loss: 0.6944 - val_accuracy: 0.4892\n",
            "Epoch 93/100\n",
            "26/26 [==============================] - 0s 12ms/step - loss: 0.7461 - accuracy: 0.4951 - val_loss: 0.6952 - val_accuracy: 0.4892\n",
            "Epoch 94/100\n",
            "26/26 [==============================] - 0s 12ms/step - loss: 0.7403 - accuracy: 0.5040 - val_loss: 0.6968 - val_accuracy: 0.4892\n",
            "Epoch 95/100\n",
            "26/26 [==============================] - 0s 13ms/step - loss: 0.7782 - accuracy: 0.4887 - val_loss: 0.6976 - val_accuracy: 0.4892\n",
            "Epoch 96/100\n",
            "26/26 [==============================] - 0s 12ms/step - loss: 0.7491 - accuracy: 0.4960 - val_loss: 0.6975 - val_accuracy: 0.4892\n",
            "Epoch 97/100\n",
            "26/26 [==============================] - 0s 12ms/step - loss: 0.7562 - accuracy: 0.4982 - val_loss: 0.6948 - val_accuracy: 0.4892\n",
            "Epoch 98/100\n",
            "26/26 [==============================] - 0s 12ms/step - loss: 0.7406 - accuracy: 0.5080 - val_loss: 0.6982 - val_accuracy: 0.4892\n",
            "Epoch 99/100\n",
            "26/26 [==============================] - 0s 11ms/step - loss: 0.7426 - accuracy: 0.5012 - val_loss: 0.7009 - val_accuracy: 0.4892\n",
            "Epoch 100/100\n",
            "26/26 [==============================] - 0s 12ms/step - loss: 0.7356 - accuracy: 0.5178 - val_loss: 0.7018 - val_accuracy: 0.4892\n"
          ],
          "name": "stdout"
        },
        {
          "output_type": "execute_result",
          "data": {
            "text/plain": [
              "<tensorflow.python.keras.callbacks.History at 0x7feae627b050>"
            ]
          },
          "metadata": {
            "tags": []
          },
          "execution_count": 60
        }
      ]
    },
    {
      "cell_type": "code",
      "metadata": {
        "id": "HBE00cAAh9VD"
      },
      "source": [
        ""
      ],
      "execution_count": null,
      "outputs": []
    },
    {
      "cell_type": "code",
      "metadata": {
        "id": "g7lJkv7KhybP"
      },
      "source": [
        ""
      ],
      "execution_count": null,
      "outputs": []
    },
    {
      "cell_type": "code",
      "metadata": {
        "id": "nzj3M8P7hyW8"
      },
      "source": [
        ""
      ],
      "execution_count": null,
      "outputs": []
    },
    {
      "cell_type": "code",
      "metadata": {
        "id": "qFOw1XLlhyUC"
      },
      "source": [
        ""
      ],
      "execution_count": null,
      "outputs": []
    },
    {
      "cell_type": "code",
      "metadata": {
        "id": "548Im-9hNQR9"
      },
      "source": [
        ""
      ],
      "execution_count": null,
      "outputs": []
    }
  ]
}