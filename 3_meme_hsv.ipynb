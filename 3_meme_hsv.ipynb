{
  "nbformat": 4,
  "nbformat_minor": 0,
  "metadata": {
    "colab": {
      "name": "meme_hsv.ipynb",
      "provenance": [],
      "collapsed_sections": []
    },
    "kernelspec": {
      "name": "python3",
      "display_name": "Python 3"
    },
    "language_info": {
      "name": "python"
    }
  },
  "cells": [
    {
      "cell_type": "code",
      "metadata": {
        "id": "NvEHBp8jhTOw"
      },
      "source": [
        "import cv2\n",
        "import matplotlib.pyplot as plt\n",
        "import numpy as np\n",
        "import pandas as pd\n",
        "import os\n",
        "# references :https://realpython.com/python-opencv-color-spaces/"
      ],
      "execution_count": null,
      "outputs": []
    },
    {
      "cell_type": "markdown",
      "metadata": {
        "id": "YGsTkeIG9XI-"
      },
      "source": [
        "What Are Color Spaces?\n",
        "\n",
        "In the most common color space, RGB (Red Green Blue), colors are represented in terms of their red, green, and blue components. In more technical terms, RGB describes a color as a tuple of three components. Each component can take a value between 0 and 255, where the tuple (0, 0, 0) represents black and (255, 255, 255) represents white.\n",
        "\n",
        "HSV and HSL are descriptions of hue, saturation, and brightness/luminance, which are particularly useful for identifying contrast in images. These color spaces are frequently used in color selection tools in software and for web design.\n",
        "\n",
        "how to simply segment an object from an image based on color in Python using OpenCV"
      ]
    },
    {
      "cell_type": "code",
      "metadata": {
        "id": "l33sv2IkhW3J"
      },
      "source": [
        "# all the color space conversions OpenCV provides\n",
        "flags = [i for i in dir(cv2) if i.startswith('COLOR_')]"
      ],
      "execution_count": null,
      "outputs": []
    },
    {
      "cell_type": "code",
      "metadata": {
        "colab": {
          "base_uri": "https://localhost:8080/"
        },
        "id": "xwak19ARhf6o",
        "outputId": "3920c246-e17c-4275-e93d-935f6d0a544b"
      },
      "source": [
        "print(flags[:20])\n",
        "# The first characters after COLOR_ indicate the origin color space\n",
        "# The characters after the 2 are the target color space"
      ],
      "execution_count": null,
      "outputs": [
        {
          "output_type": "stream",
          "name": "stdout",
          "text": [
            "['COLOR_BAYER_BG2BGR', 'COLOR_BAYER_BG2BGRA', 'COLOR_BAYER_BG2BGR_EA', 'COLOR_BAYER_BG2BGR_VNG', 'COLOR_BAYER_BG2GRAY', 'COLOR_BAYER_BG2RGB', 'COLOR_BAYER_BG2RGBA', 'COLOR_BAYER_BG2RGB_EA', 'COLOR_BAYER_BG2RGB_VNG', 'COLOR_BAYER_GB2BGR', 'COLOR_BAYER_GB2BGRA', 'COLOR_BAYER_GB2BGR_EA', 'COLOR_BAYER_GB2BGR_VNG', 'COLOR_BAYER_GB2GRAY', 'COLOR_BAYER_GB2RGB', 'COLOR_BAYER_GB2RGBA', 'COLOR_BAYER_GB2RGB_EA', 'COLOR_BAYER_GB2RGB_VNG', 'COLOR_BAYER_GR2BGR', 'COLOR_BAYER_GR2BGRA']\n"
          ]
        }
      ]
    },
    {
      "cell_type": "markdown",
      "metadata": {
        "id": "Y7NOo_36FQNF"
      },
      "source": [
        " HSV stands for Hue, Saturation, and Value (or brightness), and is a cylindrical color space. The colors, or hues, are modeled as an angular dimension rotating around a central, vertical axis, which represents the value channel. Values go from dark (0 at the bottom) to light at the top. The third axis, saturation, defines the shades of hue from least saturated, at the vertical axis, to most saturated furthest away from the center:"
      ]
    },
    {
      "cell_type": "code",
      "metadata": {
        "id": "amSBSxkshj93"
      },
      "source": [
        "def feature_hsv(path,images):\n",
        "    avg_red=[]\n",
        "    avg_green=[]\n",
        "    avg_blue=[]\n",
        "    avg_h=[]\n",
        "    avg_s=[]\n",
        "    avg_v=[]\n",
        "    id=[]\n",
        "    exception_img=[]\n",
        "    for i in images:\n",
        "        # OpenCV by default reads images in BGR format you can use the cvtColor(image, flag) and the flag we looked at above to fix this:\n",
        "      try:\n",
        "        nemo_BGR = cv2.imread(path+i)\n",
        "        nemo = cv2.cvtColor(nemo_BGR, cv2.COLOR_BGR2RGB)\n",
        "        r, g, b = cv2.split(nemo)\n",
        "        # HSV is a good choice of color space for segmenting by color\n",
        "        hsv_nemo = cv2.cvtColor(nemo, cv2.COLOR_RGB2HSV)\n",
        "        h, s, v = cv2.split(hsv_nemo)\n",
        "        id.append(i)\n",
        "        avg_red.append(r.mean())\n",
        "        avg_green.append(g.mean())\n",
        "        avg_blue.append(b.mean())\n",
        "        avg_h.append(h.mean())\n",
        "        avg_s.append(s.mean())\n",
        "        avg_v.append(v.mean())\n",
        "      except:\n",
        "        exception_img.append(i)\n",
        "    hsv_dict={'id':id,'avg_red':avg_red,'avg_green':avg_green,'avg_blue':avg_blue,\n",
        "              'avg_h': avg_h,'avg_s': avg_s,'avg_v': avg_v} \n",
        "    hsv_data= pd.DataFrame(hsv_dict) \n",
        "    return hsv_data       "
      ],
      "execution_count": null,
      "outputs": []
    },
    {
      "cell_type": "code",
      "metadata": {
        "id": "aYzpay_hj_fe"
      },
      "source": [
        "#extract hsv and RGB values form train data\n",
        "images=os.listdir('/content/drive/MyDrive/Meme/data/training')\n",
        "train_hsv_data=feature_hsv('/content/drive/MyDrive/Meme/data/training/',images)"
      ],
      "execution_count": null,
      "outputs": []
    },
    {
      "cell_type": "code",
      "metadata": {
        "id": "Wejj-HaqlQEK"
      },
      "source": [
        "#extract hsv and RGB values form validation data\n",
        "validation_images=os.listdir('/content/drive/MyDrive/Meme/validation/')\n",
        "validataion_hsv_data=feature_hsv('/content/drive/MyDrive/Meme/validation/',validation_images)"
      ],
      "execution_count": null,
      "outputs": []
    },
    {
      "cell_type": "code",
      "metadata": {
        "id": "T-OAQ7bVkILN"
      },
      "source": [
        "#save extracted features\n",
        "train_hsv_data.to_csv('/content/drive/MyDrive/Meme/data/train_hsv_data.csv',index=False)\n",
        "validataion_hsv_data.to_csv('/content/drive/MyDrive/Meme/data/validation_hsv_data.csv',index=False)"
      ],
      "execution_count": null,
      "outputs": []
    },
    {
      "cell_type": "code",
      "metadata": {
        "id": "a--p33WJsBaW"
      },
      "source": [
        ""
      ],
      "execution_count": null,
      "outputs": []
    }
  ]
}